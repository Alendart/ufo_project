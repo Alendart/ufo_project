{
 "cells": [
  {
   "cell_type": "code",
   "execution_count": 41,
   "id": "82e20712-7ff2-4fe9-8899-e0c9c1a57f4b",
   "metadata": {},
   "outputs": [
    {
     "name": "stderr",
     "output_type": "stream",
     "text": [
      "\n",
      "rzetwarzanie UFO zdarzenia: 100%|█████████████████████████████████████████████| 84057/84057 [00:13<00:00, 6414.31it/s]"
     ]
    },
    {
     "name": "stdout",
     "output_type": "stream",
     "text": [
      "Zakończono przetwarzanie. Wyniki zapisano do pliku.\n"
     ]
    }
   ],
   "source": [
    "import pandas as pd\n",
    "from geopy.distance import geodesic\n",
    "from scipy.spatial import cKDTree\n",
    "from tqdm import tqdm\n",
    "\n",
    "# Wczytanie danych\n",
    "ufo_data = pd.read_csv(\"C:/Repos/ufo_project/data/final_file/cleared_data.csv\")\n",
    "airports = pd.read_csv(\"C:/Repos/ufo_project/data/final_file/airports_UTF-8.csv\", delimiter=\";\")\n",
    "\n",
    "# Filtruj tylko lotniska typu 'large_airport'\n",
    "airports_large = airports[airports['type'] == 'large_airport']\n",
    "\n",
    "# Przygotowanie danych lotnisk (współrzędne)\n",
    "airports_coords = airports_large[['latitude_deg', 'longitude_deg']].values\n",
    "airport_tree = cKDTree(airports_coords)  # Budowanie drzewa k-D\n",
    "\n",
    "# Funkcja do znalezienia najbliższego lotniska\n",
    "def find_nearest_airport(ufo_lat, ufo_lon):\n",
    "    # Wyszukiwanie najbliższego lotniska za pomocą k-D Tree\n",
    "    distance, index = airport_tree.query([ufo_lat, ufo_lon])\n",
    "    nearest_airport = airports_large.iloc[index]\n",
    "    return nearest_airport['name'], distance\n",
    "\n",
    "# Przygotowanie listy do wyników\n",
    "nearest_airports = []\n",
    "distances = []\n",
    "\n",
    "# Postęp w pętli\n",
    "for _, ufo_event in tqdm(ufo_data.iterrows(), total=ufo_data.shape[0], desc=\"Przetwarzanie UFO zdarzenia\"):\n",
    "    ufo_lat = ufo_event['latitude']\n",
    "    ufo_lon = ufo_event['longitude']\n",
    "    airport, distance = find_nearest_airport(ufo_lat, ufo_lon)\n",
    "    nearest_airports.append(airport)\n",
    "    distances.append(distance)\n",
    "\n",
    "# Dodanie wyników do danych UFO\n",
    "ufo_data['nearest_airport'] = nearest_airports\n",
    "ufo_data['distance_to_airport_km'] = distances\n",
    "\n",
    "# Zapisanie wyniku do pliku\n",
    "ufo_data.to_csv('C:/Repos/ufo_project/data/final_file/ufo_with_nearest_airports.csv', index=False)\n",
    "\n",
    "print(\"Zakończono przetwarzanie. Wyniki zapisano do pliku.\")\n",
    "\n"
   ]
  },
  {
   "cell_type": "code",
   "execution_count": null,
   "id": "38da1d5e-6454-4cc6-95d2-7dd08480469d",
   "metadata": {},
   "outputs": [],
   "source": []
  }
 ],
 "metadata": {
  "kernelspec": {
   "display_name": "Python 3 (ipykernel)",
   "language": "python",
   "name": "python3"
  },
  "language_info": {
   "codemirror_mode": {
    "name": "ipython",
    "version": 3
   },
   "file_extension": ".py",
   "mimetype": "text/x-python",
   "name": "python",
   "nbconvert_exporter": "python",
   "pygments_lexer": "ipython3",
   "version": "3.12.2"
  }
 },
 "nbformat": 4,
 "nbformat_minor": 5
}
