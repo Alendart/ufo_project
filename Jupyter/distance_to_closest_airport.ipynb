{
 "cells": [
  {
   "cell_type": "code",
   "execution_count": 1,
   "id": "82e20712-7ff2-4fe9-8899-e0c9c1a57f4b",
   "metadata": {},
   "outputs": [
    {
     "name": "stderr",
     "output_type": "stream",
     "text": [
      "Przetwarzanie UFO zdarzenia: 100%|███████████████████████████████████████████████████████████████| 84057/84057 [00:28<00:00, 2925.19it/s]\n"
     ]
    },
    {
     "name": "stdout",
     "output_type": "stream",
     "text": [
      "Zakończono przetwarzanie. Wyniki zapisano do pliku: C:/Repos/ufo_project/data/final_file/ufo_airport_distances.csv\n"
     ]
    }
   ],
   "source": [
    "import pandas as pd\n",
    "from geopy.distance import geodesic\n",
    "from scipy.spatial import cKDTree\n",
    "from tqdm import tqdm\n",
    "\n",
    "# Wczytanie danych UFO\n",
    "ufo_data = pd.read_csv(\"C:/Repos/ufo_project/data/final_file/cleared_data.csv\")\n",
    "\n",
    "# Wczytanie danych lotnisk\n",
    "airports = pd.read_csv(\"C:/Repos/ufo_project/data/final_file/airports_UTF-8.csv\", delimiter=\";\")\n",
    "\n",
    "# Filtruj tylko lotniska typu 'large_airport'\n",
    "airports_large = airports[airports['type'] == 'large_airport'].dropna(subset=['latitude_deg', 'longitude_deg', 'ident', 'name'])\n",
    "\n",
    "# Przygotowanie danych lotnisk\n",
    "airports_coords = airports_large[['latitude_deg', 'longitude_deg']].values\n",
    "airport_tree = cKDTree(airports_coords)  # Budowanie drzewa k-D\n",
    "\n",
    "# Funkcja do obliczania odległości\n",
    "def find_nearest_airport(ufo_lat, ufo_lon):\n",
    "    \"\"\"\n",
    "    Znajdź najbliższe lotnisko i oblicz odległość w kilometrach.\n",
    "    \"\"\"\n",
    "    distance, index = airport_tree.query([ufo_lat, ufo_lon])\n",
    "    nearest_airport = airports_large.iloc[index]\n",
    "    airport_coords = (nearest_airport['latitude_deg'], nearest_airport['longitude_deg'])\n",
    "    ufo_coords = (ufo_lat, ufo_lon)\n",
    "    distance_km = geodesic(ufo_coords, airport_coords).kilometers  # Obliczenie odległości w km\n",
    "    return nearest_airport['ident'], nearest_airport['name'], airport_coords, distance_km\n",
    "\n",
    "# Przygotowanie list wynikowych\n",
    "ufo_ids = []\n",
    "event_names = []\n",
    "cities = []\n",
    "ufo_coords = []\n",
    "distances = []\n",
    "airport_keys = []\n",
    "airport_names = []\n",
    "airport_coords_list = []\n",
    "\n",
    "# Przetwarzanie danych UFO\n",
    "for _, ufo_event in tqdm(ufo_data.iterrows(), total=ufo_data.shape[0], desc=\"Przetwarzanie UFO zdarzenia\"):\n",
    "    try:\n",
    "        ufo_lat = ufo_event['latitude']\n",
    "        ufo_lon = ufo_event['longitude']\n",
    "        if pd.isna(ufo_lat) or pd.isna(ufo_lon):\n",
    "            continue\n",
    "        # Znajdź najbliższe lotnisko\n",
    "        airport_key, airport_name, airport_coord, distance = find_nearest_airport(ufo_lat, ufo_lon)\n",
    "\n",
    "        # Dodaj wyniki do list\n",
    "        ufo_ids.append(ufo_event['id'])\n",
    "        event_names.append(ufo_event.get('event_name', 'N/A'))  # Zmień na nazwę kolumny zdarzenia, jeśli istnieje\n",
    "        cities.append(ufo_event.get('city', 'Unknown'))\n",
    "        ufo_coords.append(f\"{ufo_lat}, {ufo_lon}\")\n",
    "        distances.append(distance)\n",
    "        airport_keys.append(airport_key)\n",
    "        airport_names.append(airport_name)\n",
    "        airport_coords_list.append(f\"{airport_coord[0]}, {airport_coord[1]}\")\n",
    "\n",
    "    except Exception as e:\n",
    "        print(f\"Błąd przetwarzania zdarzenia ID {ufo_event['id']}: {e}\")\n",
    "\n",
    "# Tworzenie tabeli wynikowej\n",
    "result_df = pd.DataFrame({\n",
    "    'id': ufo_ids,\n",
    "    'zdarzenie': event_names,\n",
    "    'miasto': cities,\n",
    "    'współrzędne_zdarzenia': ufo_coords,\n",
    "    'odległość_km': distances,\n",
    "    'klucz_lotniska': airport_keys,\n",
    "    'nazwa_lotniska': airport_names,\n",
    "    'współrzędne_lotniska': airport_coords_list\n",
    "})\n",
    "\n",
    "# Zapisanie tabeli wynikowej do pliku\n",
    "output_path = \"C:/Repos/ufo_project/data/final_file/ufo_airport_distances.csv\"\n",
    "result_df.to_csv(output_path, index=False)\n",
    "\n",
    "print(f\"Zakończono przetwarzanie. Wyniki zapisano do pliku: {output_path}\")\n"
   ]
  },
  {
   "cell_type": "code",
   "execution_count": 2,
   "id": "38da1d5e-6454-4cc6-95d2-7dd08480469d",
   "metadata": {},
   "outputs": [
    {
     "ename": "SyntaxError",
     "evalue": "invalid syntax (4098769945.py, line 1)",
     "output_type": "error",
     "traceback": [
      "\u001b[1;36m  Cell \u001b[1;32mIn[2], line 1\u001b[1;36m\u001b[0m\n\u001b[1;33m    git pull origin main\u001b[0m\n\u001b[1;37m        ^\u001b[0m\n\u001b[1;31mSyntaxError\u001b[0m\u001b[1;31m:\u001b[0m invalid syntax\n"
     ]
    }
   ],
   "source": [
    "git pull origin main"
   ]
  },
  {
   "cell_type": "code",
   "execution_count": null,
   "id": "bd5bdec6-d6f4-405e-afa2-049d23c9e3de",
   "metadata": {},
   "outputs": [],
   "source": []
  }
 ],
 "metadata": {
  "kernelspec": {
   "display_name": "Python 3 (ipykernel)",
   "language": "python",
   "name": "python3"
  },
  "language_info": {
   "codemirror_mode": {
    "name": "ipython",
    "version": 3
   },
   "file_extension": ".py",
   "mimetype": "text/x-python",
   "name": "python",
   "nbconvert_exporter": "python",
   "pygments_lexer": "ipython3",
   "version": "3.12.2"
  }
 },
 "nbformat": 4,
 "nbformat_minor": 5
}
