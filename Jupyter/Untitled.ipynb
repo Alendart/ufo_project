{
 "cells": [
  {
   "cell_type": "code",
   "execution_count": 1,
   "id": "dcf7e2f9-0df5-46ee-8fca-cf3bbf349b77",
   "metadata": {},
   "outputs": [
    {
     "ename": "ModuleNotFoundError",
     "evalue": "No module named 'pandas'",
     "output_type": "error",
     "traceback": [
      "\u001b[1;31m---------------------------------------------------------------------------\u001b[0m",
      "\u001b[1;31mModuleNotFoundError\u001b[0m                       Traceback (most recent call last)",
      "Cell \u001b[1;32mIn[1], line 1\u001b[0m\n\u001b[1;32m----> 1\u001b[0m \u001b[38;5;28;01mimport\u001b[39;00m \u001b[38;5;21;01mpandas\u001b[39;00m \u001b[38;5;28;01mas\u001b[39;00m \u001b[38;5;21;01mpd\u001b[39;00m\n\u001b[0;32m      3\u001b[0m \u001b[38;5;66;03m# Wczytanie danych\u001b[39;00m\n\u001b[0;32m      4\u001b[0m ufo_data \u001b[38;5;241m=\u001b[39m pd\u001b[38;5;241m.\u001b[39mread_csv(\u001b[38;5;124m\"\u001b[39m\u001b[38;5;124mC:/Repos/ufo_project/data/final_file/cleared_data.csv\u001b[39m\u001b[38;5;124m\"\u001b[39m)  \u001b[38;5;66;03m# Zdarzenia UFO\u001b[39;00m\n",
      "\u001b[1;31mModuleNotFoundError\u001b[0m: No module named 'pandas'"
     ]
    }
   ],
   "source": [
    "import pandas as pd\n",
    "\n",
    "# Wczytanie danych\n",
    "ufo_data = pd.read_csv(\"C:/Repos/ufo_project/data/final_file/cleared_data.csv\")  # Zdarzenia UFO\n",
    "airports = pd.read_csv(\"C:/Repos/ufo_project/data/final_file/airports_UTF-8.csv\")  # Lista lotnisk\n",
    "\n",
    "# Wyświetlenie pierwszych kilku wierszy z obu zbiorów danych\n",
    "print(\"UFO Data:\")\n",
    "display(ufo_data.head())\n",
    "print(\"Airports Data:\")\n",
    "display(airports.head())\n"
   ]
  },
  {
   "cell_type": "code",
   "execution_count": null,
   "id": "7cd84794-2935-4f8b-9ff0-d44e5af5f4df",
   "metadata": {},
   "outputs": [],
   "source": []
  }
 ],
 "metadata": {
  "kernelspec": {
   "display_name": "Python 3 (ipykernel)",
   "language": "python",
   "name": "python3"
  },
  "language_info": {
   "codemirror_mode": {
    "name": "ipython",
    "version": 3
   },
   "file_extension": ".py",
   "mimetype": "text/x-python",
   "name": "python",
   "nbconvert_exporter": "python",
   "pygments_lexer": "ipython3",
   "version": "3.12.2"
  }
 },
 "nbformat": 4,
 "nbformat_minor": 5
}
